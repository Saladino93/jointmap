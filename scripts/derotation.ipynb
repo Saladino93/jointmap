{
 "cells": [
  {
   "cell_type": "code",
   "execution_count": 1,
   "metadata": {},
   "outputs": [],
   "source": [
    "# import necessary modules\n",
    "import numpy as np\n",
    "import matplotlib as mpl\n",
    "import matplotlib.pyplot as plt\n",
    "from classy import Class\n",
    "from math import pi\n",
    "mpl.rcParams['font.size']=13.5"
   ]
  },
  {
   "cell_type": "code",
   "execution_count": 2,
   "metadata": {},
   "outputs": [
    {
     "ename": "CosmoSevereError",
     "evalue": "\n\nError in Class: input_read_from_file(L:426) :error in input_read_parameters(pfc,ppr,pba,pth,ppt,ptr,ppm,phr,pfo,ple,psd,pop, errmsg);\n=>input_read_parameters(L:1623) :error in input_read_parameters_general(pfc,pba,pth,ppt,psd, errmsg);\n=>input_read_parameters_general(L:1787) :condition (flag1==_FALSE_) is true; The options for output are {'tCl','pCl','lCl','nCl','dCl','sCl','mPk','mTk','dTk','vTk','Sd'}, you entered 'tCl,pCl,rCl'",
     "output_type": "error",
     "traceback": [
      "\u001b[0;31m---------------------------------------------------------------------------\u001b[0m",
      "\u001b[0;31mCosmoSevereError\u001b[0m                          Traceback (most recent call last)",
      "Cell \u001b[0;32mIn[2], line 21\u001b[0m\n\u001b[1;32m     19\u001b[0m cosmo \u001b[38;5;241m=\u001b[39m Class()\n\u001b[1;32m     20\u001b[0m cosmo\u001b[38;5;241m.\u001b[39mset(params)\n\u001b[0;32m---> 21\u001b[0m \u001b[43mcosmo\u001b[49m\u001b[38;5;241;43m.\u001b[39;49m\u001b[43mcompute\u001b[49m\u001b[43m(\u001b[49m\u001b[43mlevel\u001b[49m\u001b[38;5;241;43m=\u001b[39;49m\u001b[43m[\u001b[49m\u001b[38;5;124;43m'\u001b[39;49m\u001b[38;5;124;43mrotation\u001b[39;49m\u001b[38;5;124;43m'\u001b[39;49m\u001b[43m]\u001b[49m\u001b[43m)\u001b[49m\n\u001b[1;32m     22\u001b[0m rot_cls \u001b[38;5;241m=\u001b[39m cosmo\u001b[38;5;241m.\u001b[39mrotated_cl()\n",
      "File \u001b[0;32mclassy.pyx:362\u001b[0m, in \u001b[0;36mclassy.Class.compute\u001b[0;34m()\u001b[0m\n",
      "\u001b[0;31mCosmoSevereError\u001b[0m: \n\nError in Class: input_read_from_file(L:426) :error in input_read_parameters(pfc,ppr,pba,pth,ppt,ptr,ppm,phr,pfo,ple,psd,pop, errmsg);\n=>input_read_parameters(L:1623) :error in input_read_parameters_general(pfc,pba,pth,ppt,psd, errmsg);\n=>input_read_parameters_general(L:1787) :condition (flag1==_FALSE_) is true; The options for output are {'tCl','pCl','lCl','nCl','dCl','sCl','mPk','mTk','dTk','vTk','Sd'}, you entered 'tCl,pCl,rCl'"
     ]
    }
   ],
   "source": [
    "# use input rotation field power spectrum\n",
    "#\n",
    "# \"input_claa\" is the file of the input rotation field power spectrum\n",
    "#\n",
    "# the input rotation power spectrum should be stored in one column from l=0\n",
    "#\n",
    "# \"input_claa\" and \"A_cb\" should not be given both.\n",
    "#\n",
    "params = {\n",
    "        'output': 'tCl,pCl,rCl',\n",
    "        'l_max_scalars': 4000,\n",
    "        'modes':'s,t',\n",
    "        'r':0.004,\n",
    "        'rotation': 'yes',\n",
    "        'alpha': 0.0,\n",
    "        'A_cb': 1e-7}\n",
    "        #'input_claa': '../input_claa.txt'}\n",
    "\n",
    "cosmo = Class()\n",
    "cosmo.set(params)\n",
    "cosmo.compute(level=['rotation'])\n",
    "rot_cls = cosmo.rotated_cl()"
   ]
  },
  {
   "cell_type": "code",
   "execution_count": null,
   "metadata": {},
   "outputs": [],
   "source": []
  },
  {
   "cell_type": "code",
   "execution_count": null,
   "metadata": {},
   "outputs": [],
   "source": []
  }
 ],
 "metadata": {
  "kernelspec": {
   "display_name": "delensalot",
   "language": "python",
   "name": "python3"
  },
  "language_info": {
   "codemirror_mode": {
    "name": "ipython",
    "version": 3
   },
   "file_extension": ".py",
   "mimetype": "text/x-python",
   "name": "python",
   "nbconvert_exporter": "python",
   "pygments_lexer": "ipython3",
   "version": "3.10.15"
  }
 },
 "nbformat": 4,
 "nbformat_minor": 2
}
